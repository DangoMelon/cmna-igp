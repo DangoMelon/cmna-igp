{
 "cells": [
  {
   "cell_type": "markdown",
   "metadata": {},
   "source": [
    "# Curso Modelado Numérico de la Atmósfera\n",
    "\n",
    "Alumno: *Gerardo Rivera Tello*\n",
    "\n",
    "---"
   ]
  },
  {
   "cell_type": "markdown",
   "metadata": {},
   "source": [
    "## Tarea 2\n",
    "\n",
    "Dada la siguiente malla de datos de temperatura, pronosticar la evolución del campo de la variable para una hora. Aplicar el método de Euler para las derivadas zonal y meridional.\n",
    "\n",
    "### Datos\n",
    "* Velocidad del viento = CONST = 7m/s\n",
    "* Dirección del viento = CONST = 140°\n",
    "* Resolución del dominio dx = dy = 18km\n",
    "* Paso del tiempo ¿?\n",
    "\n",
    "$$\n",
    "TEMP = \\begin{bmatrix}\n",
    "21.2 & 22.8 & 23.5 & 24.8 & 26.5 \\\\\n",
    "22.7 & 24.4 & 25.2 & 26.5 & 28.4 \\\\\n",
    "24.3 & 26.1 & 27.0 & 28.4 & 30.4 \\\\\n",
    "26.0 & 27.9 & 28.9 & 30.4 & 32.5 \\\\\n",
    "27.8 & 29.9 & 30.9 & 32.5 & 34.8 \\\\\n",
    "29.7 & 32.0 & 33.0 & 34.8 & 37.2 \\\\\n",
    "31.8 & 34.2 & 35.3 & 37.2 & 39.8\n",
    "\\end{bmatrix}$$"
   ]
  },
  {
   "cell_type": "markdown",
   "metadata": {},
   "source": [
    "---"
   ]
  },
  {
   "cell_type": "markdown",
   "metadata": {},
   "source": [
    "## Solución"
   ]
  },
  {
   "cell_type": "markdown",
   "metadata": {},
   "source": [
    "La ecuación que estamos tratando de resolver es la siguiente:\n",
    "\n",
    "$$\n",
    "\\frac{\\partial T }{\\partial t} + u \\frac{\\partial T}{\\partial x} + v \\frac{\\partial T}{\\partial y} = 0\n",
    "$$"
   ]
  },
  {
   "cell_type": "markdown",
   "metadata": {},
   "source": [
    "En donde el paso de tiempo estara determinado por\n",
    "\n",
    "$$\n",
    "\\frac{\\lvert u\\rvert*\\Delta t}{\\Delta x} + \\frac{\\lvert v\\rvert*\\Delta t}{\\Delta y} \\leq 0.06\n",
    "\\\\\n",
    "$$\n",
    "\n",
    "Que resulta en\n",
    "\n",
    "$$\n",
    "\\Delta t \\leq \\frac{0.06}{\\left(\\frac{\\lvert u\\rvert}{\\Delta x} + \\frac{\\lvert v\\rvert}{\\Delta y}\\right)}\n",
    "$$"
   ]
  },
  {
   "cell_type": "code",
   "execution_count": null,
   "metadata": {},
   "outputs": [],
   "source": [
    "# Manejo de datos\n",
    "import numpy as np\n",
    "import pandas as pd\n",
    "import xarray as xr"
   ]
  },
  {
   "cell_type": "code",
   "execution_count": null,
   "metadata": {},
   "outputs": [],
   "source": [
    "# Plots y graficos interactivos\n",
    "import holoviews as hv\n",
    "import matplotlib.pyplot as plt\n",
    "import panel as pn\n",
    "from panel.interact import fixed, interact\n",
    "\n",
    "pn.extension()\n",
    "hv.extension(\"bokeh\")"
   ]
  },
  {
   "cell_type": "code",
   "execution_count": null,
   "metadata": {},
   "outputs": [],
   "source": [
    "# Declaración de datos\n",
    "dx = dy = 18\n",
    "magw = 7\n",
    "angw = 140\n",
    "temp_arr = np.array(\n",
    "    [\n",
    "        [21.2, 22.8, 23.5, 24.8, 26.5],\n",
    "        [22.7, 24.4, 25.2, 26.5, 28.4],\n",
    "        [24.3, 26.1, 27.0, 28.4, 30.4],\n",
    "        [26.0, 27.9, 28.9, 30.4, 32.5],\n",
    "        [27.8, 29.9, 30.9, 32.5, 34.8],\n",
    "        [29.7, 32.0, 33.0, 34.8, 37.2],\n",
    "        [31.8, 34.2, 35.3, 37.2, 39.8],\n",
    "    ]\n",
    ")"
   ]
  },
  {
   "cell_type": "code",
   "execution_count": null,
   "metadata": {},
   "outputs": [],
   "source": [
    "# Calculo de las componentes u,v\n",
    "u = magw * np.cos(np.deg2rad(140))\n",
    "v = magw * np.sin(np.deg2rad(140))\n",
    "\n",
    "print(f\"{u = }\\n{v = }\")"
   ]
  },
  {
   "cell_type": "markdown",
   "metadata": {},
   "source": [
    "Con los valores obtenidos para u y v, calculamos el valor límite que debe tener $\\Delta t$"
   ]
  },
  {
   "cell_type": "code",
   "execution_count": null,
   "metadata": {},
   "outputs": [],
   "source": [
    "dt_approx = 0.06 / ((np.abs(u) / (dx * 1000)) + (np.abs(v) / (dy * 1000)))\n",
    "print(f\"{dt_approx = }\")"
   ]
  },
  {
   "cell_type": "markdown",
   "metadata": {},
   "source": [
    "Entonces tomamos\n",
    "\n",
    "$$\n",
    "\\Delta t \\approx 100s\n",
    "$$"
   ]
  },
  {
   "cell_type": "markdown",
   "metadata": {},
   "source": [
    "Construimos una grilla que cumpla con $\\Delta x$ y $\\Delta y$ (no es necesario realizar esto, pero es util para tener coordenadas definidas dentro de xarray)"
   ]
  },
  {
   "cell_type": "code",
   "execution_count": null,
   "metadata": {},
   "outputs": [],
   "source": [
    "lon = np.arange(-90, -90 + temp_arr.shape[1] * dx, dx)\n",
    "lat = np.arange(-50, -50 + temp_arr.shape[0] * dy, dy)\n",
    "print(f\"{lon = }\\n{lat = }\")"
   ]
  },
  {
   "cell_type": "markdown",
   "metadata": {},
   "source": [
    "Construimos nuestra matriz de datos con `lat` y `lon` como coordenadas"
   ]
  },
  {
   "cell_type": "code",
   "execution_count": null,
   "metadata": {},
   "outputs": [],
   "source": [
    "temp = xr.DataArray(temp_arr, coords=[(\"lat\", lat[::-1]), (\"lon\", lon)])\n",
    "\n",
    "# Metadata adicional para variables/coordenadas que sigue la convención CF\n",
    "temp.lon.attrs[\"long_name\"] = \"Longitude\"\n",
    "temp.lon.attrs[\"units\"] = \"degrees_east\"\n",
    "temp.lat.attrs[\"long_name\"] = \"Latitude\"\n",
    "temp.lat.attrs[\"units\"] = \"degrees_north\"\n",
    "temp.attrs[\"long_name\"] = \"Temperature\"\n",
    "temp.attrs[\"units\"] = \"degrees_C\"\n",
    "temp.name = \"temperature\"\n",
    "\n",
    "temp"
   ]
  },
  {
   "cell_type": "code",
   "execution_count": null,
   "metadata": {},
   "outputs": [],
   "source": [
    "# Arreglos para grafico de quivers\n",
    "u_arr = np.full_like(temp_arr, u)\n",
    "v_arr = np.full_like(temp_arr, v)"
   ]
  },
  {
   "cell_type": "markdown",
   "metadata": {},
   "source": [
    "Se puede explorar nuestra malla de datos iniciales"
   ]
  },
  {
   "cell_type": "code",
   "execution_count": null,
   "metadata": {},
   "outputs": [],
   "source": [
    "fig, ax = plt.subplots(dpi=100)\n",
    "temp.plot(ax=ax, vmin=20, vmax=40)\n",
    "ax.quiver(lon, lat, u_arr, v_arr)\n",
    "ax.set_title(\"En grilla\")"
   ]
  },
  {
   "cell_type": "code",
   "execution_count": null,
   "metadata": {},
   "outputs": [],
   "source": [
    "levels = np.arange(20, 40.5, 0.5)\n",
    "\n",
    "fix, ax = plt.subplots(dpi=100)\n",
    "temp.plot.contourf(ax=ax, vmin=20, vmax=40, levels=levels)\n",
    "CS = temp.plot.contour(ax=ax, vmin=20, vmax=40, colors=\"k\", levels=levels[::4])\n",
    "ax.quiver(lon + dx / 2, lat + dy / 2, u_arr, v_arr)\n",
    "ax.set_ylim(lat.min(), lat.max())\n",
    "ax.set_xlim(lon.min(), lon.max())\n",
    "ax.clabel(CS, colors=\"k\", fmt=\"%i\")\n",
    "ax.set_title(\"En contornos\")"
   ]
  },
  {
   "cell_type": "markdown",
   "metadata": {},
   "source": [
    "---"
   ]
  },
  {
   "cell_type": "markdown",
   "metadata": {},
   "source": [
    "La discretización de la ecuacion a resolver se hara con un esquema centrado en el espacio y adelantado en el tiempo"
   ]
  },
  {
   "cell_type": "markdown",
   "metadata": {},
   "source": [
    "$$\n",
    "\\left(\\frac{T_{i,j}^{n+1} - T_{i,j}^{n}}{\\Delta t}\\right) + u \\left(\\frac{T_{i+1,j}^{n} - T_{i-1,j}^{n}}{2\\Delta x} \\right) + v \\left( \\frac{T_{i,j+1}^{n} - T_{i,j-1}^{n}}{2\\Delta y} \\right) = 0\n",
    "$$"
   ]
  },
  {
   "cell_type": "markdown",
   "metadata": {},
   "source": [
    "De donde"
   ]
  },
  {
   "cell_type": "markdown",
   "metadata": {},
   "source": [
    "$$\n",
    "T_{i,j}^{n+1} = \\Delta t \\ T_{i,j}^{n} - \\frac{u \\Delta t}{2 \\Delta x} \\left( T_{i+1,j}^{n} - T_{i-1,j}^{n} \\right) - \\frac{v \\Delta t}{2 \\Delta y} \\left( T_{i,j+1}^{n} - T_{i,j-1}^{n} \\right)\n",
    "$$"
   ]
  },
  {
   "cell_type": "markdown",
   "metadata": {},
   "source": [
    "Implementamos la discretizacion obtenida en una función que nos permitirá obtener la temperatura pronosticada"
   ]
  },
  {
   "cell_type": "code",
   "execution_count": null,
   "metadata": {},
   "outputs": [],
   "source": [
    "def solve(inarr, dt, u, v, nt, tstart=\"2020-05-20T00:00\", plot=False, dynamic=False):\n",
    "    \"\"\"\n",
    "    Resuelve la ecuacion de momento en dos dimensiones con velocidades constantes\n",
    "    \n",
    "    Parametros\n",
    "    ----------\n",
    "    inarr: DataArray\n",
    "        Objeto de xarray con grilla regular (lat, lon) que\n",
    "        representa el campo inicial\n",
    "    dt: int\n",
    "        Salto de tiempo\n",
    "    u: float\n",
    "        Valor de la velocidad zonal\n",
    "    v: float\n",
    "        Valor de la velocidad meridional\n",
    "    nt: int\n",
    "        Saltos de tiempo a resolver\n",
    "    tstart: string, opcional\n",
    "        Fecha inicial de la simulación. Útil para la dimension\n",
    "        tiempo a agregar en el array de salida. \n",
    "        Por defecto toma el valor 2020-05-20T00:00\n",
    "    \n",
    "    Retorna\n",
    "    -------\n",
    "    outarr: DataArray\n",
    "        Arreglo con las mismas coordenadas que inarr pero con\n",
    "        dimension `time` agregada de longitud `nt`+1 y\n",
    "        saltos `dt`.\n",
    "    \"\"\"\n",
    "    tdelta = pd.Timedelta(dt, unit=\"s\")\n",
    "    tstart = pd.to_datetime(tstart)\n",
    "    outarr = xr.DataArray(\n",
    "        np.nan,\n",
    "        coords=[\n",
    "            (\"time\", pd.date_range(tstart, tstart + (tdelta * nt), freq=f\"{dt}s\")),\n",
    "            (\"lat\", inarr.lat),\n",
    "            (\"lon\", inarr.lon),\n",
    "        ],\n",
    "    )\n",
    "    outarr[0] = inarr\n",
    "    for i in range(outarr.time.size - 1):\n",
    "        current_time = outarr.isel(time=i)\n",
    "        cdiffx = current_time.differentiate(\"lon\") / 1000\n",
    "        cdiffy = current_time.differentiate(\"lat\") / 1000\n",
    "        outarr[i + 1] = (current_time) - (u * dt * cdiffx) - (v * dt * cdiffy)\n",
    "\n",
    "    # Colocamos la metadata\n",
    "    outarr.lat.attrs = inarr.lat.attrs\n",
    "    outarr.lon.attrs = inarr.lon.attrs\n",
    "    outarr.attrs = inarr.attrs\n",
    "    outarr.name = \"forecast_temp\"\n",
    "\n",
    "    # En caso de querer retornar el gráfico\n",
    "    if plot:\n",
    "        hmap = hv.Dataset(outarr).to(hv.Image, kdims=[\"lon\", \"lat\"])\n",
    "        cont = hv.operation.contours(\n",
    "            hmap, filled=True, dynamic=dynamic, levels=np.arange(-5, 60, 1.0).tolist()\n",
    "        ).redim.range(forecast_temp=(20, 40))\n",
    "        xx, yy = np.meshgrid(\n",
    "            np.linspace(lon.min(), lon.max(), 30), np.linspace(lat.min(), lat.max(), 30)\n",
    "        )\n",
    "        vector = hv.VectorField(\n",
    "            (xx, yy, np.full_like(xx, np.arctan2(v, u)), np.full_like(xx, 1),)\n",
    "        )\n",
    "        layout = cont * vector\n",
    "        layout.opts(\n",
    "            hv.opts.Polygons(\n",
    "                tools=[\"hover\", \"save\"],\n",
    "                default_tools=[],\n",
    "                ylim=(lat.min(), lat.max()),\n",
    "                xlim=(lon.min(), lon.max()),\n",
    "                width=700,\n",
    "                height=500,\n",
    "                colorbar=True,\n",
    "                color_levels=22,\n",
    "            ),\n",
    "            hv.opts.Overlay(default_tools=[]),\n",
    "            hv.opts.VectorField(default_tools=[]),\n",
    "        )\n",
    "        if dynamic:\n",
    "            return pn.panel(layout, widget_type=\"scrubber\", widget_location=\"bottom\")\n",
    "        return layout\n",
    "\n",
    "    return outarr"
   ]
  },
  {
   "cell_type": "code",
   "execution_count": null,
   "metadata": {},
   "outputs": [],
   "source": [
    "fore_temp = solve(temp, 100, u, v, 36)\n",
    "fore_temp"
   ]
  },
  {
   "cell_type": "markdown",
   "metadata": {},
   "source": [
    "Exploramos el resultado"
   ]
  },
  {
   "cell_type": "code",
   "execution_count": null,
   "metadata": {},
   "outputs": [],
   "source": [
    "fcst = solve(temp, 100, u, v, 36, plot=True)\n",
    "fcst"
   ]
  },
  {
   "cell_type": "code",
   "execution_count": null,
   "metadata": {},
   "outputs": [],
   "source": [
    "# Solo guardar cuando se corre localmente\n",
    "# hv.save(fcst,'resultado',fmt='gif')"
   ]
  },
  {
   "cell_type": "markdown",
   "metadata": {},
   "source": [
    "---"
   ]
  },
  {
   "cell_type": "markdown",
   "metadata": {},
   "source": [
    "## Live Demo"
   ]
  },
  {
   "cell_type": "markdown",
   "metadata": {},
   "source": [
    "En caso de estar visualizando este notebook en binder, podemos modificar algunos parámetros y observar como el campo evoluciona en el tiempo."
   ]
  },
  {
   "cell_type": "code",
   "execution_count": null,
   "metadata": {},
   "outputs": [],
   "source": [
    "live_panel = interact(\n",
    "    solve,\n",
    "    inarr=fixed(temp),\n",
    "    dt=(10, 110, 10, 100),\n",
    "    u=(-15, 15, 0.1, u),\n",
    "    v=(-15, 15, 0.1, v),\n",
    "    nt=(18, 36 * 5, 18, 36),\n",
    "    plot=fixed(True),\n",
    "    dynamic=fixed(True),\n",
    ")\n",
    "\n",
    "# Modificamos la velocidad de reproducción por defecto\n",
    "player = live_panel[1][0][1][1][0]\n",
    "player.param.interval.default = 200\n",
    "\n",
    "pn.Row(\n",
    "    pn.layout.HSpacer(),\n",
    "    pn.Column(\n",
    "        pn.pane.PNG(\n",
    "            \"https://repositorio.igp.gob.pe/themes/Mirage/images/logo-igp-corto.png\",\n",
    "            align=\"center\",\n",
    "            width=250,\n",
    "            margin=-25,\n",
    "        ),\n",
    "        pn.pane.Markdown(\n",
    "            \"## Curso Modelado Numérico de la Atmósfera \\n **Parámetros**\", margin=0\n",
    "        ),\n",
    "        live_panel[0],\n",
    "        pn.layout.VSpacer(),\n",
    "        pn.pane.Markdown(\"*por Gerardo Rivera Tello*\"),\n",
    "        margin=20,\n",
    "    ),\n",
    "    live_panel[1],\n",
    "    pn.layout.HSpacer(),\n",
    ").servable()"
   ]
  }
 ],
 "metadata": {
  "kernelspec": {
   "display_name": "Python 3",
   "language": "python",
   "name": "python3"
  },
  "language_info": {
   "codemirror_mode": {
    "name": "ipython",
    "version": 3
   },
   "file_extension": ".py",
   "mimetype": "text/x-python",
   "name": "python",
   "nbconvert_exporter": "python",
   "pygments_lexer": "ipython3",
   "version": "3.8.2"
  }
 },
 "nbformat": 4,
 "nbformat_minor": 4
}
